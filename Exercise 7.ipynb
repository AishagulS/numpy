{
 "cells": [
  {
   "cell_type": "code",
   "execution_count": 1,
   "id": "b240c55e",
   "metadata": {},
   "outputs": [
    {
     "name": "stdout",
     "output_type": "stream",
     "text": [
      "[[7. 1. 7.]\n",
      " [2. 2. 2.]\n",
      " [2. 8. 2.]\n",
      " [9. 3. 9.]\n",
      " [8. 9. 8.]\n",
      " [5. 2. 5.]\n",
      " [8. 2. 8.]\n",
      " [7. 6. 7.]\n",
      " [9. 2. 9.]\n",
      " [8. 5. 8.]]\n"
     ]
    }
   ],
   "source": [
    "import numpy as np\n",
    "generator = np.random.default_rng(123)\n",
    "grades = np.round(generator.uniform(low=0.0, high=10.0, size=(10, 2)))\n",
    "missing_grades = np.isnan(grades[:, 0])\n",
    "third_column = np.where(missing_grades, grades[:, 1], grades[:, 0])\n",
    "grades_with_third_column = np.column_stack((grades, third_column))\n",
    "print(grades_with_third_column)"
   ]
  },
  {
   "cell_type": "code",
   "execution_count": null,
   "id": "f40f7192",
   "metadata": {},
   "outputs": [],
   "source": []
  }
 ],
 "metadata": {
  "kernelspec": {
   "display_name": "Python 3 (ipykernel)",
   "language": "python",
   "name": "python3"
  },
  "language_info": {
   "codemirror_mode": {
    "name": "ipython",
    "version": 3
   },
   "file_extension": ".py",
   "mimetype": "text/x-python",
   "name": "python",
   "nbconvert_exporter": "python",
   "pygments_lexer": "ipython3",
   "version": "3.8.10"
  }
 },
 "nbformat": 4,
 "nbformat_minor": 5
}
