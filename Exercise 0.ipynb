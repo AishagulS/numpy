{
 "cells": [
  {
   "cell_type": "markdown",
   "id": "21942b18",
   "metadata": {},
   "source": [
    "# H1 TITLE\n",
    "## H2 TITLE\n"
   ]
  },
  {
   "cell_type": "code",
   "execution_count": 1,
   "id": "bd4cde0e",
   "metadata": {},
   "outputs": [
    {
     "name": "stdout",
     "output_type": "stream",
     "text": [
      "Buy the dip?\n"
     ]
    }
   ],
   "source": [
    "print(\"Buy the dip?\")"
   ]
  }
 ],
 "metadata": {
  "kernelspec": {
   "display_name": "Python 3 (ipykernel)",
   "language": "python",
   "name": "python3"
  },
  "language_info": {
   "codemirror_mode": {
    "name": "ipython",
    "version": 3
   },
   "file_extension": ".py",
   "mimetype": "text/x-python",
   "name": "python",
   "nbconvert_exporter": "python",
   "pygments_lexer": "ipython3",
   "version": "3.8.10"
  }
 },
 "nbformat": 4,
 "nbformat_minor": 5
}
