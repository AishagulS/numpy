{
 "cells": [
  {
   "cell_type": "code",
   "execution_count": 1,
   "id": "95b8b8cd",
   "metadata": {},
   "outputs": [
    {
     "name": "stdout",
     "output_type": "stream",
     "text": [
      "[ 1  3  0  7  9  0 13 15  0 19 21  0 25 27  0 31 33  0 37 39  0 43 45  0\n",
      " 49 51  0 55 57  0 61 63  0 67 69  0 73 75  0 79 81  0 85 87  0 91 93  0\n",
      " 97 99]\n",
      "[100   0  96  94   0  90  88   0  84  82   0  78  76   0  72  70   0  66\n",
      "  64   0  60  58   0  54  52   0  48  46   0  42  40   0  36  34   0  30\n",
      "  28   0  24  22   0  18  16   0  12  10   0   6   4   0]\n",
      "[  1   0   3   4   0   6   7   0   9  10   0  12  13   0  15  16   0  18\n",
      "  19   0  21  22   0  24  25   0  27  28   0  30  31   0  33  34   0  36\n",
      "  37   0  39  40   0  42  43   0  45  46   0  48  49   0  51  52   0  54\n",
      "  55   0  57  58   0  60  61   0  63  64   0  66  67   0  69  70   0  72\n",
      "  73   0  75  76   0  78  79   0  81  82   0  84  85   0  87  88   0  90\n",
      "  91   0  93  94   0  96  97   0  99 100]\n"
     ]
    }
   ],
   "source": [
    "import numpy as np\n",
    "arr = np.arange(1, 101)\n",
    "odd_arr = arr[::2]\n",
    "even_arr = arr[-1::-2]\n",
    "arr[1::3] = 0\n",
    "print(odd_arr)\n",
    "print(even_arr)\n",
    "print(arr)\n"
   ]
  },
  {
   "cell_type": "code",
   "execution_count": null,
   "id": "f5f58a0e",
   "metadata": {},
   "outputs": [],
   "source": []
  }
 ],
 "metadata": {
  "kernelspec": {
   "display_name": "Python 3 (ipykernel)",
   "language": "python",
   "name": "python3"
  },
  "language_info": {
   "codemirror_mode": {
    "name": "ipython",
    "version": 3
   },
   "file_extension": ".py",
   "mimetype": "text/x-python",
   "name": "python",
   "nbconvert_exporter": "python",
   "pygments_lexer": "ipython3",
   "version": "3.8.10"
  }
 },
 "nbformat": 4,
 "nbformat_minor": 5
}
