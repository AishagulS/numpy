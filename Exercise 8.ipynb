{
 "cells": [
  {
   "cell_type": "code",
   "execution_count": 4,
   "id": "4e899e5c",
   "metadata": {},
   "outputs": [
    {
     "name": "stdout",
     "output_type": "stream",
     "text": [
      "[[7.800e+00 8.800e-01 0.000e+00 2.600e+00 9.800e-02 2.500e+01 6.700e+01\n",
      "  9.968e-01 3.200e+00 6.800e-01 9.800e+00 5.000e+00]\n",
      " [7.900e+00 6.000e-01 6.000e-02 1.600e+00 6.900e-02 1.500e+01 5.900e+01\n",
      "  9.964e-01 3.300e+00 4.600e-01 9.400e+00 5.000e+00]\n",
      " [7.500e+00 5.000e-01 3.600e-01 6.100e+00 7.100e-02 1.700e+01 1.020e+02\n",
      "  9.978e-01 3.350e+00 8.000e-01 1.050e+01 5.000e+00]]\n",
      "False\n",
      "5.6360226\n",
      "Minimum pH: 2.74\n",
      "Maximum pH: 4.01\n",
      "25th percentile of pH: 3.2100000381469727\n",
      "50th percentile (median) of pH: 3.309999942779541\n",
      "75th percentile of pH: 3.4000000953674316\n",
      "Median pH: 3.31\n",
      "Mean values for wines with the best quality:\n",
      "[ 8.566666    0.4233333   0.39111114  2.5777776   0.06844445 13.277778\n",
      " 33.444443    0.99521226  3.2672222   0.76777774 12.094444    8.        ]\n",
      "\n",
      "Mean values for wines with the worst quality:\n",
      "[ 8.359999    0.8845      0.17099999  2.6350002   0.12249999 11.\n",
      " 24.9         0.997464    3.398       0.57000005  9.955       3.        ]\n"
     ]
    }
   ],
   "source": [
    "import numpy as np\n",
    "\n",
    "# Загрузка данных с оптимизацией типов данных\n",
    "url = 'https://archive.ics.uci.edu/ml/machine-learning-databases/wine-quality/winequality-red.csv'\n",
    "data = np.genfromtxt(url, delimiter=';', skip_header=1, dtype=np.float32)\n",
    "rows_to_print = [1, 6, 11]\n",
    "print(data[rows_to_print])\n",
    "has_high_alcohol = np.any(data[:, -1] > 20)\n",
    "print(has_high_alcohol)\n",
    "average_alcohol = np.nanmean(data[:, -1])\n",
    "print(average_alcohol)\n",
    "ph_values = data[:, 8]\n",
    "ph_min = np.min(ph_values)\n",
    "ph_max = np.max(ph_values)\n",
    "ph_25th_percentile = np.percentile(ph_values, 25)\n",
    "ph_50th_percentile = np.percentile(ph_values, 50)\n",
    "ph_75th_percentile = np.percentile(ph_values, 75)\n",
    "ph_median = np.median(ph_values)\n",
    "\n",
    "print(\"Minimum pH:\", ph_min)\n",
    "print(\"Maximum pH:\", ph_max)\n",
    "print(\"25th percentile of pH:\", ph_25th_percentile)\n",
    "print(\"50th percentile (median) of pH:\", ph_50th_percentile)\n",
    "print(\"75th percentile of pH:\", ph_75th_percentile)\n",
    "print(\"Median pH:\", ph_median)\n",
    "quality = data[:, -1]\n",
    "best_quality = np.max(quality)\n",
    "worst_quality = np.min(quality)\n",
    "mean_best_quality = np.mean(data[data[:, -1] == best_quality], axis=0)\n",
    "mean_worst_quality = np.mean(data[data[:, -1] == worst_quality], axis=0)\n",
    "\n",
    "print(\"Mean values for wines with the best quality:\")\n",
    "print(mean_best_quality)\n",
    "print(\"\\nMean values for wines with the worst quality:\")\n",
    "print(mean_worst_quality)"
   ]
  },
  {
   "cell_type": "code",
   "execution_count": null,
   "id": "baaed977",
   "metadata": {},
   "outputs": [],
   "source": []
  },
  {
   "cell_type": "code",
   "execution_count": null,
   "id": "e2d28b4e",
   "metadata": {},
   "outputs": [],
   "source": []
  },
  {
   "cell_type": "code",
   "execution_count": null,
   "id": "403a297d",
   "metadata": {},
   "outputs": [],
   "source": []
  },
  {
   "cell_type": "code",
   "execution_count": null,
   "id": "8df69847",
   "metadata": {},
   "outputs": [],
   "source": []
  }
 ],
 "metadata": {
  "kernelspec": {
   "display_name": "Python 3 (ipykernel)",
   "language": "python",
   "name": "python3"
  },
  "language_info": {
   "codemirror_mode": {
    "name": "ipython",
    "version": 3
   },
   "file_extension": ".py",
   "mimetype": "text/x-python",
   "name": "python",
   "nbconvert_exporter": "python",
   "pygments_lexer": "ipython3",
   "version": "3.8.10"
  }
 },
 "nbformat": 4,
 "nbformat_minor": 5
}
