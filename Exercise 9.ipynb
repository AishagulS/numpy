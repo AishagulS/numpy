{
 "cells": [
  {
   "cell_type": "code",
   "execution_count": 6,
   "id": "02b701a6",
   "metadata": {},
   "outputs": [
    {
     "name": "stdout",
     "output_type": "stream",
     "text": [
      "[[3]\n",
      " [5]]\n"
     ]
    }
   ],
   "source": [
    "import numpy as np\n",
    "from itertools import permutations\n",
    "\n",
    "# Загрузка матрицы разниц в счете из файла\n",
    "score_diff = np.loadtxt('model_forecasts.txt')\n",
    "\n",
    "# Получение количества команд\n",
    "num_teams = score_diff.shape[0]\n",
    "\n",
    "# Генерация всех возможных перестановок пар команд\n",
    "team_permutations = permutations(range(num_teams), 2)\n",
    "\n",
    "# Вычисление суммы квадратов разниц для каждой пары\n",
    "sum_squared_diff = [np.sum(np.square(score_diff[pair])) for pair in team_permutations]\n",
    "\n",
    "# Поиск индекса пары с минимальной суммой квадратов разниц\n",
    "min_index = np.argmin(sum_squared_diff)\n",
    "\n",
    "# Получение индексов команд для наиболее интересного матча\n",
    "team_permutations = permutations(range(num_teams), 2)  # Повторное создание объекта permutations\n",
    "pair_indices = list(team_permutations)[min_index]\n",
    "\n",
    "# Изменение формы индексов пар в двумерный массив размером 2x5\n",
    "pair_indices = np.array(pair_indices).reshape(2, -1)\n",
    "\n",
    "# Вывод индексов пар\n",
    "print(pair_indices)"
   ]
  },
  {
   "cell_type": "code",
   "execution_count": null,
   "id": "630117f3",
   "metadata": {},
   "outputs": [],
   "source": []
  }
 ],
 "metadata": {
  "kernelspec": {
   "display_name": "Python 3 (ipykernel)",
   "language": "python",
   "name": "python3"
  },
  "language_info": {
   "codemirror_mode": {
    "name": "ipython",
    "version": 3
   },
   "file_extension": ".py",
   "mimetype": "text/x-python",
   "name": "python",
   "nbconvert_exporter": "python",
   "pygments_lexer": "ipython3",
   "version": "3.8.10"
  }
 },
 "nbformat": 4,
 "nbformat_minor": 5
}
